{
 "cells": [
  {
   "cell_type": "code",
   "execution_count": 1,
   "id": "34c6b81a",
   "metadata": {},
   "outputs": [],
   "source": [
    "import pandas as pd\n",
    "import numpy as np\n",
    "import matplotlib.pyplot as plt\n",
    "import os"
   ]
  },
  {
   "cell_type": "code",
   "execution_count": 2,
   "id": "015604af",
   "metadata": {},
   "outputs": [
    {
     "name": "stdout",
     "output_type": "stream",
     "text": [
      "\n",
      "--- First 5 rows of Real_Estate_(Base_Data).csv ---\n",
      "   RecordID_Int ParcelNumber StreetNumber   StreetName Unit  \\\n",
      "0             1    010001000         1117   EMMET ST N  NaN   \n",
      "1             2    010001100      1035-67  MILLMONT ST  NaN   \n",
      "2             3    010001200         1159  MILLMONT ST  NaN   \n",
      "3             4    010001300      1135-37  MILLMONT ST  NaN   \n",
      "4             5    010001400         1111  MILLMONT ST  NaN   \n",
      "\n",
      "                     StateCode  TaxType   Zone  TaxDist  \\\n",
      "0  4.0 Commercial & Industrial  Taxable  NX-10      NaN   \n",
      "1  4.0 Commercial & Industrial  Taxable  NX-10      NaN   \n",
      "2  4.0 Commercial & Industrial  Taxable  NX-10      NaN   \n",
      "3  4.0 Commercial & Industrial  Taxable  NX-10      NaN   \n",
      "4  4.0 Commercial & Industrial  Taxable  NX-10      NaN   \n",
      "\n",
      "                                        Legal  Acreage   GPIN  \n",
      "0  39.832 ACRES BARRACKS ROAD SHOPPING CENTER    39.83   1326  \n",
      "1                           PARCEL W WEST BAR     2.14  15071  \n",
      "2                            LOT C-1 WEST BAR     0.58   1280  \n",
      "3                           LOT C-2B WEST BAR     0.40   1357  \n",
      "4                            LOT B-1 WEST BAR     3.28   1366  \n",
      "\n",
      "--- First 5 rows of Real_Estate_(Residential_Details).csv ---\n",
      "   RecordID_Int ParcelNumber StreetNumber   StreetName Unit  \\\n",
      "0             1    010001600          600    MASSIE RD  NaN   \n",
      "1             2    010005000         2030  BARRACKS RD  NaN   \n",
      "2             3    010006000         2028  BARRACKS RD  NaN   \n",
      "3             4    010007000         1930  BARRACKS RD  NaN   \n",
      "4             5    010008000         1924  BARRACKS RD  NaN   \n",
      "\n",
      "                       UseCode            Style Grade                    Roof  \\\n",
      "0  Multipurpose Bldg (College)          2 Story     A                   Metal   \n",
      "1                  Vacant Land              NaN   NaN                     NaN   \n",
      "2                Single Family          2 Story     A  Architectural Shingles   \n",
      "3                Single Family  2 Sty Excellent   A -                   Slate   \n",
      "4                  Vacant Land              NaN   NaN                     NaN   \n",
      "\n",
      "   Flooring  ... Bedrooms HalfBathrooms  FullBathrooms BasementGarage  \\\n",
      "0       NaN  ...        4             0              4              0   \n",
      "1       NaN  ...      NaN           NaN            NaN            NaN   \n",
      "2  Hardwood  ...        5             1              3              0   \n",
      "3  Hardwood  ...        5             1              4              0   \n",
      "4       NaN  ...      NaN           NaN            NaN            NaN   \n",
      "\n",
      "  Basement FinishedBasement      BasementType ExternalWalls  NumberOfStories  \\\n",
      "0      0.0                0       No Basement          Wood             2.00   \n",
      "1      0.0                0               NaN           NaN              NaN   \n",
      "2   1163.0             1018  Walkout Basement  Brick Veneer             2.00   \n",
      "3   1699.0             1468  Partial Basement  Brick Veneer             2.00   \n",
      "4      0.0                0               NaN           NaN              NaN   \n",
      "\n",
      "  SquareFootageFinishedLiving  \n",
      "0                      3672.0  \n",
      "1                         NaN  \n",
      "2                      2786.0  \n",
      "3                      5474.0  \n",
      "4                         NaN  \n",
      "\n",
      "[5 rows x 24 columns]\n",
      "\n",
      "--- First 5 rows of Real_Estate_(Sales).csv ---\n",
      "   RecordID_Int ParcelNumber                SaleDate  SaleAmount   StreetName  \\\n",
      "0             1    010001000  2016/02/10 05:00:00+00           0   EMMET ST N   \n",
      "1             2    010001000  2016/02/10 05:00:00+00           0   EMMET ST N   \n",
      "2             3    010001000  2000/10/23 04:00:00+00           0   EMMET ST N   \n",
      "3             4    010001100  2008/09/23 04:00:00+00           0  MILLMONT ST   \n",
      "4             5    010001100  2008/09/23 04:00:00+00           0  MILLMONT ST   \n",
      "\n",
      "  StreetNumber Unit   BookPage  \n",
      "0         1117  NaN   2016:418  \n",
      "1         1117  NaN   2016:418  \n",
      "2         1117  NaN    793:231  \n",
      "3      1035-67  NaN  2008:4753  \n",
      "4      1035-67  NaN  2008:4752  \n"
     ]
    }
   ],
   "source": [
    "folder_path = os.path.join(os.getcwd(), \"time data\")\n",
    "csv_files = [f for f in os.listdir(folder_path) if f.endswith(\".csv\")]\n",
    "\n",
    "dataframes = {file: pd.read_csv(os.path.join(folder_path, file)) for file in csv_files}\n",
    "\n",
    "for file, df in dataframes.items():\n",
    "    print(f\"\\n--- First 5 rows of {file} ---\")\n",
    "    print(df.head())"
   ]
  },
  {
   "cell_type": "code",
   "execution_count": 3,
   "id": "230f7922",
   "metadata": {},
   "outputs": [
    {
     "data": {
      "text/html": [
       "<div>\n",
       "<style scoped>\n",
       "    .dataframe tbody tr th:only-of-type {\n",
       "        vertical-align: middle;\n",
       "    }\n",
       "\n",
       "    .dataframe tbody tr th {\n",
       "        vertical-align: top;\n",
       "    }\n",
       "\n",
       "    .dataframe thead th {\n",
       "        text-align: right;\n",
       "    }\n",
       "</style>\n",
       "<table border=\"1\" class=\"dataframe\">\n",
       "  <thead>\n",
       "    <tr style=\"text-align: right;\">\n",
       "      <th></th>\n",
       "      <th>RecordID_Int_x</th>\n",
       "      <th>ParcelNumber</th>\n",
       "      <th>StreetNumber_x</th>\n",
       "      <th>StreetName_x</th>\n",
       "      <th>Unit_x</th>\n",
       "      <th>StateCode</th>\n",
       "      <th>TaxType</th>\n",
       "      <th>Zone</th>\n",
       "      <th>TaxDist</th>\n",
       "      <th>Legal</th>\n",
       "      <th>...</th>\n",
       "      <th>ExternalWalls</th>\n",
       "      <th>NumberOfStories</th>\n",
       "      <th>SquareFootageFinishedLiving</th>\n",
       "      <th>RecordID_Int</th>\n",
       "      <th>SaleDate</th>\n",
       "      <th>SaleAmount</th>\n",
       "      <th>StreetName</th>\n",
       "      <th>StreetNumber</th>\n",
       "      <th>Unit</th>\n",
       "      <th>BookPage</th>\n",
       "    </tr>\n",
       "  </thead>\n",
       "  <tbody>\n",
       "    <tr>\n",
       "      <th>0</th>\n",
       "      <td>7</td>\n",
       "      <td>010001600</td>\n",
       "      <td>600</td>\n",
       "      <td>MASSIE RD</td>\n",
       "      <td>NaN</td>\n",
       "      <td>7.6 Exempt Educational</td>\n",
       "      <td>Exempt</td>\n",
       "      <td>CM</td>\n",
       "      <td>NaN</td>\n",
       "      <td>80 AC JAG SCHOOL</td>\n",
       "      <td>...</td>\n",
       "      <td>Wood</td>\n",
       "      <td>2.00</td>\n",
       "      <td>3672.0</td>\n",
       "      <td>28</td>\n",
       "      <td>1900/01/01 05:00:00+00</td>\n",
       "      <td>0</td>\n",
       "      <td>MASSIE RD</td>\n",
       "      <td>600</td>\n",
       "      <td>NaN</td>\n",
       "      <td>0:0</td>\n",
       "    </tr>\n",
       "    <tr>\n",
       "      <th>1</th>\n",
       "      <td>15</td>\n",
       "      <td>010005000</td>\n",
       "      <td>2030</td>\n",
       "      <td>BARRACKS RD</td>\n",
       "      <td>NaN</td>\n",
       "      <td>1.0 Residential (Urban)</td>\n",
       "      <td>Taxable</td>\n",
       "      <td>R-B</td>\n",
       "      <td>NaN</td>\n",
       "      <td>LOT 11 BK 10 RUGBY</td>\n",
       "      <td>...</td>\n",
       "      <td>NaN</td>\n",
       "      <td>NaN</td>\n",
       "      <td>NaN</td>\n",
       "      <td>64</td>\n",
       "      <td>2024/06/28 04:00:00+00</td>\n",
       "      <td>581500</td>\n",
       "      <td>BARRACKS RD</td>\n",
       "      <td>2030</td>\n",
       "      <td>NaN</td>\n",
       "      <td>2024:1553</td>\n",
       "    </tr>\n",
       "    <tr>\n",
       "      <th>2</th>\n",
       "      <td>15</td>\n",
       "      <td>010005000</td>\n",
       "      <td>2030</td>\n",
       "      <td>BARRACKS RD</td>\n",
       "      <td>NaN</td>\n",
       "      <td>1.0 Residential (Urban)</td>\n",
       "      <td>Taxable</td>\n",
       "      <td>R-B</td>\n",
       "      <td>NaN</td>\n",
       "      <td>LOT 11 BK 10 RUGBY</td>\n",
       "      <td>...</td>\n",
       "      <td>NaN</td>\n",
       "      <td>NaN</td>\n",
       "      <td>NaN</td>\n",
       "      <td>65</td>\n",
       "      <td>1993/02/18 05:00:00+00</td>\n",
       "      <td>0</td>\n",
       "      <td>BARRACKS RD</td>\n",
       "      <td>2030</td>\n",
       "      <td>NaN</td>\n",
       "      <td>651:842</td>\n",
       "    </tr>\n",
       "    <tr>\n",
       "      <th>3</th>\n",
       "      <td>15</td>\n",
       "      <td>010005000</td>\n",
       "      <td>2030</td>\n",
       "      <td>BARRACKS RD</td>\n",
       "      <td>NaN</td>\n",
       "      <td>1.0 Residential (Urban)</td>\n",
       "      <td>Taxable</td>\n",
       "      <td>R-B</td>\n",
       "      <td>NaN</td>\n",
       "      <td>LOT 11 BK 10 RUGBY</td>\n",
       "      <td>...</td>\n",
       "      <td>NaN</td>\n",
       "      <td>NaN</td>\n",
       "      <td>NaN</td>\n",
       "      <td>66</td>\n",
       "      <td>1993/02/18 05:00:00+00</td>\n",
       "      <td>0</td>\n",
       "      <td>BARRACKS RD</td>\n",
       "      <td>2030</td>\n",
       "      <td>NaN</td>\n",
       "      <td>651:842</td>\n",
       "    </tr>\n",
       "    <tr>\n",
       "      <th>4</th>\n",
       "      <td>16</td>\n",
       "      <td>010006000</td>\n",
       "      <td>2028</td>\n",
       "      <td>BARRACKS RD</td>\n",
       "      <td>NaN</td>\n",
       "      <td>1.0 Residential (Urban)</td>\n",
       "      <td>Taxable</td>\n",
       "      <td>R-B</td>\n",
       "      <td>NaN</td>\n",
       "      <td>LOTS 9 &amp; 10 BK 10 RUGBY</td>\n",
       "      <td>...</td>\n",
       "      <td>Brick Veneer</td>\n",
       "      <td>2.00</td>\n",
       "      <td>2786.0</td>\n",
       "      <td>67</td>\n",
       "      <td>2023/12/15 05:00:00+00</td>\n",
       "      <td>1305000</td>\n",
       "      <td>BARRACKS RD</td>\n",
       "      <td>2028</td>\n",
       "      <td>NaN</td>\n",
       "      <td>2023:2799</td>\n",
       "    </tr>\n",
       "  </tbody>\n",
       "</table>\n",
       "<p>5 rows × 42 columns</p>\n",
       "</div>"
      ],
      "text/plain": [
       "   RecordID_Int_x ParcelNumber StreetNumber_x StreetName_x Unit_x  \\\n",
       "0               7    010001600            600    MASSIE RD    NaN   \n",
       "1              15    010005000           2030  BARRACKS RD    NaN   \n",
       "2              15    010005000           2030  BARRACKS RD    NaN   \n",
       "3              15    010005000           2030  BARRACKS RD    NaN   \n",
       "4              16    010006000           2028  BARRACKS RD    NaN   \n",
       "\n",
       "                 StateCode  TaxType Zone  TaxDist                    Legal  \\\n",
       "0   7.6 Exempt Educational   Exempt   CM      NaN         80 AC JAG SCHOOL   \n",
       "1  1.0 Residential (Urban)  Taxable  R-B      NaN       LOT 11 BK 10 RUGBY   \n",
       "2  1.0 Residential (Urban)  Taxable  R-B      NaN       LOT 11 BK 10 RUGBY   \n",
       "3  1.0 Residential (Urban)  Taxable  R-B      NaN       LOT 11 BK 10 RUGBY   \n",
       "4  1.0 Residential (Urban)  Taxable  R-B      NaN  LOTS 9 & 10 BK 10 RUGBY   \n",
       "\n",
       "   ...  ExternalWalls  NumberOfStories  SquareFootageFinishedLiving  \\\n",
       "0  ...           Wood             2.00                       3672.0   \n",
       "1  ...            NaN              NaN                          NaN   \n",
       "2  ...            NaN              NaN                          NaN   \n",
       "3  ...            NaN              NaN                          NaN   \n",
       "4  ...   Brick Veneer             2.00                       2786.0   \n",
       "\n",
       "  RecordID_Int                SaleDate SaleAmount   StreetName StreetNumber  \\\n",
       "0           28  1900/01/01 05:00:00+00          0    MASSIE RD          600   \n",
       "1           64  2024/06/28 04:00:00+00     581500  BARRACKS RD         2030   \n",
       "2           65  1993/02/18 05:00:00+00          0  BARRACKS RD         2030   \n",
       "3           66  1993/02/18 05:00:00+00          0  BARRACKS RD         2030   \n",
       "4           67  2023/12/15 05:00:00+00    1305000  BARRACKS RD         2028   \n",
       "\n",
       "  Unit   BookPage  \n",
       "0  NaN        0:0  \n",
       "1  NaN  2024:1553  \n",
       "2  NaN    651:842  \n",
       "3  NaN    651:842  \n",
       "4  NaN  2023:2799  \n",
       "\n",
       "[5 rows x 42 columns]"
      ]
     },
     "execution_count": 3,
     "metadata": {},
     "output_type": "execute_result"
    }
   ],
   "source": [
    "merged_df = None\n",
    "\n",
    "for file, df in dataframes.items():\n",
    "    if merged_df is None:\n",
    "        merged_df = df\n",
    "    else:\n",
    "        merged_df = merged_df.merge(df, on=\"ParcelNumber\", how=\"inner\")  # Inner join\n",
    "\n",
    "\n",
    "merged_df.to_csv(\"merged_data.csv\", index=False)\n",
    "merged_df.head()"
   ]
  },
  {
   "cell_type": "code",
   "execution_count": 4,
   "id": "30dac65d",
   "metadata": {},
   "outputs": [
    {
     "data": {
      "text/plain": [
       "['RecordID_Int_x',\n",
       " 'ParcelNumber',\n",
       " 'StreetNumber_x',\n",
       " 'StreetName_x',\n",
       " 'Unit_x',\n",
       " 'StateCode',\n",
       " 'TaxType',\n",
       " 'Zone',\n",
       " 'TaxDist',\n",
       " 'Legal',\n",
       " 'Acreage',\n",
       " 'GPIN',\n",
       " 'RecordID_Int_y',\n",
       " 'StreetNumber_y',\n",
       " 'StreetName_y',\n",
       " 'Unit_y',\n",
       " 'UseCode',\n",
       " 'Style',\n",
       " 'Grade',\n",
       " 'Roof',\n",
       " 'Flooring',\n",
       " 'Heating',\n",
       " 'Fireplace',\n",
       " 'YearBuilt',\n",
       " 'TotalRooms',\n",
       " 'Bedrooms',\n",
       " 'HalfBathrooms',\n",
       " 'FullBathrooms',\n",
       " 'BasementGarage',\n",
       " 'Basement',\n",
       " 'FinishedBasement',\n",
       " 'BasementType',\n",
       " 'ExternalWalls',\n",
       " 'NumberOfStories',\n",
       " 'SquareFootageFinishedLiving',\n",
       " 'RecordID_Int',\n",
       " 'SaleDate',\n",
       " 'SaleAmount',\n",
       " 'StreetName',\n",
       " 'StreetNumber',\n",
       " 'Unit',\n",
       " 'BookPage']"
      ]
     },
     "execution_count": 4,
     "metadata": {},
     "output_type": "execute_result"
    }
   ],
   "source": [
    "merged_df.columns.tolist()"
   ]
  },
  {
   "cell_type": "code",
   "execution_count": 5,
   "id": "e60e50a1",
   "metadata": {},
   "outputs": [
    {
     "data": {
      "text/html": [
       "<div>\n",
       "<style scoped>\n",
       "    .dataframe tbody tr th:only-of-type {\n",
       "        vertical-align: middle;\n",
       "    }\n",
       "\n",
       "    .dataframe tbody tr th {\n",
       "        vertical-align: top;\n",
       "    }\n",
       "\n",
       "    .dataframe thead th {\n",
       "        text-align: right;\n",
       "    }\n",
       "</style>\n",
       "<table border=\"1\" class=\"dataframe\">\n",
       "  <thead>\n",
       "    <tr style=\"text-align: right;\">\n",
       "      <th></th>\n",
       "      <th>ParcelNumber</th>\n",
       "      <th>SaleAmount</th>\n",
       "      <th>SaleDate</th>\n",
       "      <th>Bedrooms</th>\n",
       "      <th>YearBuilt</th>\n",
       "      <th>SquareFootageFinishedLiving</th>\n",
       "      <th>Grade</th>\n",
       "    </tr>\n",
       "  </thead>\n",
       "  <tbody>\n",
       "    <tr>\n",
       "      <th>0</th>\n",
       "      <td>010001600</td>\n",
       "      <td>0</td>\n",
       "      <td>1900/01/01 05:00:00+00</td>\n",
       "      <td>4</td>\n",
       "      <td>1920.0</td>\n",
       "      <td>3672.0</td>\n",
       "      <td>A</td>\n",
       "    </tr>\n",
       "    <tr>\n",
       "      <th>1</th>\n",
       "      <td>010005000</td>\n",
       "      <td>581500</td>\n",
       "      <td>2024/06/28 04:00:00+00</td>\n",
       "      <td>NaN</td>\n",
       "      <td>NaN</td>\n",
       "      <td>NaN</td>\n",
       "      <td>NaN</td>\n",
       "    </tr>\n",
       "    <tr>\n",
       "      <th>2</th>\n",
       "      <td>010005000</td>\n",
       "      <td>0</td>\n",
       "      <td>1993/02/18 05:00:00+00</td>\n",
       "      <td>NaN</td>\n",
       "      <td>NaN</td>\n",
       "      <td>NaN</td>\n",
       "      <td>NaN</td>\n",
       "    </tr>\n",
       "    <tr>\n",
       "      <th>3</th>\n",
       "      <td>010005000</td>\n",
       "      <td>0</td>\n",
       "      <td>1993/02/18 05:00:00+00</td>\n",
       "      <td>NaN</td>\n",
       "      <td>NaN</td>\n",
       "      <td>NaN</td>\n",
       "      <td>NaN</td>\n",
       "    </tr>\n",
       "    <tr>\n",
       "      <th>4</th>\n",
       "      <td>010006000</td>\n",
       "      <td>1305000</td>\n",
       "      <td>2023/12/15 05:00:00+00</td>\n",
       "      <td>5</td>\n",
       "      <td>1940.0</td>\n",
       "      <td>2786.0</td>\n",
       "      <td>A</td>\n",
       "    </tr>\n",
       "  </tbody>\n",
       "</table>\n",
       "</div>"
      ],
      "text/plain": [
       "  ParcelNumber  SaleAmount                SaleDate Bedrooms  YearBuilt  \\\n",
       "0    010001600           0  1900/01/01 05:00:00+00        4     1920.0   \n",
       "1    010005000      581500  2024/06/28 04:00:00+00      NaN        NaN   \n",
       "2    010005000           0  1993/02/18 05:00:00+00      NaN        NaN   \n",
       "3    010005000           0  1993/02/18 05:00:00+00      NaN        NaN   \n",
       "4    010006000     1305000  2023/12/15 05:00:00+00        5     1940.0   \n",
       "\n",
       "   SquareFootageFinishedLiving Grade  \n",
       "0                       3672.0     A  \n",
       "1                          NaN   NaN  \n",
       "2                          NaN   NaN  \n",
       "3                          NaN   NaN  \n",
       "4                       2786.0     A  "
      ]
     },
     "execution_count": 5,
     "metadata": {},
     "output_type": "execute_result"
    }
   ],
   "source": [
    "columns_to_keep = ['ParcelNumber','SaleAmount', 'SaleDate','Bedrooms','YearBuilt','SquareFootageFinishedLiving', 'Grade']\n",
    "merged_df = merged_df[[col for col in columns_to_keep if col in merged_df.columns]]\n",
    "merged_df.head()"
   ]
  },
  {
   "cell_type": "code",
   "execution_count": 34,
   "id": "d29c1168",
   "metadata": {},
   "outputs": [
    {
     "data": {
      "text/html": [
       "<div>\n",
       "<style scoped>\n",
       "    .dataframe tbody tr th:only-of-type {\n",
       "        vertical-align: middle;\n",
       "    }\n",
       "\n",
       "    .dataframe tbody tr th {\n",
       "        vertical-align: top;\n",
       "    }\n",
       "\n",
       "    .dataframe thead th {\n",
       "        text-align: right;\n",
       "    }\n",
       "</style>\n",
       "<table border=\"1\" class=\"dataframe\">\n",
       "  <thead>\n",
       "    <tr style=\"text-align: right;\">\n",
       "      <th></th>\n",
       "      <th>ParcelNumber</th>\n",
       "      <th>SaleAmount</th>\n",
       "      <th>SaleDate</th>\n",
       "      <th>Bedrooms</th>\n",
       "      <th>YearBuilt</th>\n",
       "      <th>SquareFootageFinishedLiving</th>\n",
       "      <th>Grade</th>\n",
       "      <th>Grade out of 10</th>\n",
       "    </tr>\n",
       "  </thead>\n",
       "  <tbody>\n",
       "    <tr>\n",
       "      <th>14</th>\n",
       "      <td>010010000</td>\n",
       "      <td>575000</td>\n",
       "      <td>2018</td>\n",
       "      <td>4</td>\n",
       "      <td>1950.0</td>\n",
       "      <td>2144.0</td>\n",
       "      <td>B++</td>\n",
       "      <td>7.5</td>\n",
       "    </tr>\n",
       "    <tr>\n",
       "      <th>15</th>\n",
       "      <td>010011000</td>\n",
       "      <td>205000</td>\n",
       "      <td>1984</td>\n",
       "      <td>6</td>\n",
       "      <td>1954.0</td>\n",
       "      <td>3392.0</td>\n",
       "      <td>B +</td>\n",
       "      <td>7.0</td>\n",
       "    </tr>\n",
       "    <tr>\n",
       "      <th>16</th>\n",
       "      <td>010011000</td>\n",
       "      <td>970000</td>\n",
       "      <td>2018</td>\n",
       "      <td>6</td>\n",
       "      <td>1954.0</td>\n",
       "      <td>3392.0</td>\n",
       "      <td>B +</td>\n",
       "      <td>7.0</td>\n",
       "    </tr>\n",
       "    <tr>\n",
       "      <th>17</th>\n",
       "      <td>010012000</td>\n",
       "      <td>785000</td>\n",
       "      <td>2020</td>\n",
       "      <td>3</td>\n",
       "      <td>1952.0</td>\n",
       "      <td>2520.0</td>\n",
       "      <td>B++</td>\n",
       "      <td>7.5</td>\n",
       "    </tr>\n",
       "    <tr>\n",
       "      <th>18</th>\n",
       "      <td>010012000</td>\n",
       "      <td>512000</td>\n",
       "      <td>2015</td>\n",
       "      <td>3</td>\n",
       "      <td>1952.0</td>\n",
       "      <td>2520.0</td>\n",
       "      <td>B++</td>\n",
       "      <td>7.5</td>\n",
       "    </tr>\n",
       "  </tbody>\n",
       "</table>\n",
       "</div>"
      ],
      "text/plain": [
       "   ParcelNumber  SaleAmount  SaleDate  Bedrooms  YearBuilt  \\\n",
       "14    010010000      575000      2018         4     1950.0   \n",
       "15    010011000      205000      1984         6     1954.0   \n",
       "16    010011000      970000      2018         6     1954.0   \n",
       "17    010012000      785000      2020         3     1952.0   \n",
       "18    010012000      512000      2015         3     1952.0   \n",
       "\n",
       "    SquareFootageFinishedLiving Grade  Grade out of 10  \n",
       "14                       2144.0   B++              7.5  \n",
       "15                       3392.0   B +              7.0  \n",
       "16                       3392.0   B +              7.0  \n",
       "17                       2520.0   B++              7.5  \n",
       "18                       2520.0   B++              7.5  "
      ]
     },
     "execution_count": 34,
     "metadata": {},
     "output_type": "execute_result"
    }
   ],
   "source": [
    "merged_df = merged_df.dropna()\n",
    "merged_df_clean = merged_df[merged_df[\"SaleAmount\"] != 0]\n",
    "merged_df_clean.to_csv(\"merged_data_clean.csv\", index=False)\n",
    "merged_df_clean = merged_df_clean[merged_df_clean.apply(lambda row: 'No dat' not in row.values, axis=1)]\n",
    "merged_df_clean = merged_df_clean[merged_df_clean['Bedrooms'] != '2215']\n",
    "merged_df_clean['Bedrooms'] = pd.to_numeric(merged_df_clean['Bedrooms'], errors='coerce').astype('Int64')\n",
    "merged_df_clean = merged_df_clean[merged_df_clean['YearBuilt'] >= 1950]\n",
    "merged_df_clean = merged_df_clean[merged_df_clean['YearBuilt'] <= 2025]\n",
    "merged_df_clean['SaleDate'] = pd.to_datetime(merged_df_clean['SaleDate'])\n",
    "merged_df_clean['SaleDate'] = merged_df_clean['SaleDate'].dt.year\n",
    "grade_mapping = {\n",
    "    \"A++\": 10, \"A +\": 9, \"A\": 8.5, \"A -\": 8,\n",
    "    \"B++\": 7.5, \"B +\": 7, \"B\": 6.5, \"B -\": 6,\n",
    "    \"C++\": 5.5, \"C +\": 5, \"C\": 4.5, \"C -\": 4,\n",
    "    \"D +\": 3.5, \"D\": 3, \"D -\": 2.5, \"E\": 2\n",
    "}\n",
    "merged_df_clean['Grade out of 10'] = merged_df_clean['Grade'].map(grade_mapping)\n",
    "merged_df_clean.to_csv(\"cleaned_housing.csv\", index=False)\n",
    "merged_df_clean.head()"
   ]
  },
  {
   "cell_type": "code",
   "execution_count": 7,
   "id": "142b30fa",
   "metadata": {},
   "outputs": [
    {
     "data": {
      "text/plain": [
       "<IntegerArray>\n",
       "[4, 6, 3, 2, 7, 5, 1, 8, 10, 0, 12, 9]\n",
       "Length: 12, dtype: Int64"
      ]
     },
     "execution_count": 7,
     "metadata": {},
     "output_type": "execute_result"
    }
   ],
   "source": [
    "merged_df_clean['Bedrooms'].unique()"
   ]
  },
  {
   "cell_type": "code",
   "execution_count": 8,
   "id": "b16149f4",
   "metadata": {},
   "outputs": [
    {
     "data": {
      "text/plain": [
       "array(['B++', 'B +', 'A -', 'A', 'C', 'B', 'B -', 'C++', 'C +', 'A +',\n",
       "       'D', 'C -', 'A++', 'D +', 'D -', 'E'], dtype=object)"
      ]
     },
     "execution_count": 8,
     "metadata": {},
     "output_type": "execute_result"
    }
   ],
   "source": [
    "merged_df_clean['Grade'].unique()"
   ]
  },
  {
   "cell_type": "code",
   "execution_count": 35,
   "id": "2073b7c9",
   "metadata": {},
   "outputs": [
    {
     "data": {
      "text/plain": [
       "array([ 7.5,  7. ,  8. ,  8.5,  4.5,  6.5,  6. ,  5.5,  5. ,  9. ,  3. ,\n",
       "        4. , 10. ,  3.5,  2.5,  2. ])"
      ]
     },
     "execution_count": 35,
     "metadata": {},
     "output_type": "execute_result"
    }
   ],
   "source": [
    "merged_df_clean['Grade out of 10'].unique()"
   ]
  },
  {
   "cell_type": "code",
   "execution_count": 9,
   "id": "86787020",
   "metadata": {},
   "outputs": [
    {
     "data": {
      "text/plain": [
       "array([1950., 1954., 1952., 1958., 2002., 1951., 1970., 1953., 2005.,\n",
       "       1956., 1957., 1955., 1979., 2014., 1990., 1971., 1969., 1964.,\n",
       "       2000., 1960., 1980., 1959., 1981., 1968., 2010., 1975., 1973.,\n",
       "       1967., 2023., 2006., 1994., 1997., 1998., 1999., 2001., 2004.,\n",
       "       1963., 2013., 2015., 2011., 2021., 1962., 1966., 1961., 1976.,\n",
       "       1987., 1972., 1992., 1983., 1991., 2016., 1993., 2007., 1984.,\n",
       "       1965., 2022., 1986., 2012., 2017., 1978., 2019., 2009., 1996.,\n",
       "       2008., 1985., 2018., 1989., 1977., 1982., 2020., 1995., 1974.,\n",
       "       2003., 1988., 2024.])"
      ]
     },
     "execution_count": 9,
     "metadata": {},
     "output_type": "execute_result"
    }
   ],
   "source": [
    "merged_df_clean['YearBuilt'].unique()"
   ]
  },
  {
   "cell_type": "code",
   "execution_count": 17,
   "id": "78febb14",
   "metadata": {},
   "outputs": [
    {
     "data": {
      "text/plain": [
       "array([2018, 1984, 2020, 2015, 1973, 2002, 1996, 1958, 2017, 2000, 1993,\n",
       "       2005, 2008, 2003, 2001, 2006, 2023, 2010, 2022, 1994, 1989, 1991,\n",
       "       2019, 1999, 2004, 2014, 2007, 1995, 2012, 2021, 1997, 1985, 2013,\n",
       "       1979, 1992, 1976, 2016, 1971, 1952, 2024, 2011, 2009, 1983, 1988,\n",
       "       1998, 1986, 1977, 1980, 1972, 1970, 1987, 1990, 1978, 1951, 1953,\n",
       "       1982, 1974, 1975, 1969, 1963, 1954, 1965, 1957, 1961, 1981, 1968,\n",
       "       1967, 1962, 1966, 1964, 1956, 1955, 1960, 1946, 1959, 1950, 1947,\n",
       "       1949, 1909, 1945, 1944, 1948])"
      ]
     },
     "execution_count": 17,
     "metadata": {},
     "output_type": "execute_result"
    }
   ],
   "source": [
    "merged_df_clean['SaleDate'].unique()"
   ]
  },
  {
   "cell_type": "code",
   "execution_count": 10,
   "id": "9b3110f0",
   "metadata": {},
   "outputs": [
    {
     "data": {
      "image/png": "[encoded data removed]",
      "text/plain": [
       "<Figure size 432x288 with 1 Axes>"
      ]
     },
     "metadata": {
      "needs_background": "light"
     },
     "output_type": "display_data"
    }
   ],
   "source": [
    "avg_prices = merged_df_clean.groupby('Bedrooms')['SaleAmount'].mean()\n",
    "\n",
    "# Create bar chart\n",
    "plt.bar(avg_prices.index, avg_prices.values, color='skyblue')\n",
    "\n",
    "# Add labels and title\n",
    "plt.xlabel('Number of Bedrooms')\n",
    "plt.ylabel('Average Sales Price ($)')\n",
    "plt.title('Average Sales Price vs. Number of Bedrooms')\n",
    "\n",
    "# Show the chart\n",
    "plt.show()"
   ]
  },
  {
   "cell_type": "code",
   "execution_count": 11,
   "id": "8f3bf47c",
   "metadata": {},
   "outputs": [
    {
     "data": {
      "image/png": "[encoded data removed]",
      "text/plain": [
       "<Figure size 432x288 with 1 Axes>"
      ]
     },
     "metadata": {
      "needs_background": "light"
     },
     "output_type": "display_data"
    }
   ],
   "source": [
    "avg_prices = merged_df_clean.groupby('YearBuilt')['SaleAmount'].mean()\n",
    "\n",
    "# Create bar chart\n",
    "plt.bar(avg_prices.index, avg_prices.values, color='skyblue')\n",
    "\n",
    "# Add labels and title\n",
    "plt.xlabel('Year Built')\n",
    "plt.ylabel('Average Sales Price ($)')\n",
    "plt.title('Average Sales Price vs. Year Built')\n",
    "\n",
    "# Show the chart\n",
    "plt.show()"
   ]
  },
  {
   "cell_type": "code",
   "execution_count": 12,
   "id": "bc66d30a",
   "metadata": {},
   "outputs": [
    {
     "data": {
      "image/png": "[encoded data removed]",
      "text/plain": [
       "<Figure size 432x288 with 1 Axes>"
      ]
     },
     "metadata": {
      "needs_background": "light"
     },
     "output_type": "display_data"
    }
   ],
   "source": [
    "x = merged_df_clean['SquareFootageFinishedLiving']\n",
    "y = merged_df_clean['SaleAmount']\n",
    "\n",
    "plt.scatter(x, y, color='blue', alpha=0.6)\n",
    "\n",
    "x_avg = np.mean(x)\n",
    "y_avg = np.mean(y)\n",
    "\n",
    "plt.axhline(y_avg, color='red', linestyle='--', label=f'Avg Y: {y_avg:.2f}')\n",
    "\n",
    "# Optionally, add a vertical line at the average x-value\n",
    "plt.axvline(x_avg, color='green', linestyle='--', label=f'Avg X: {x_avg:.2f}')\n",
    "\n",
    "# Add labels and title\n",
    "plt.xlabel('Square Footage')\n",
    "plt.ylabel('Sales Price ($)')\n",
    "plt.title('Sales Price vs. Square Footage with Average Value Lines')\n",
    "\n",
    "# Show the plot\n",
    "plt.show()"
   ]
  },
  {
   "cell_type": "code",
   "execution_count": 19,
   "id": "52f04c43",
   "metadata": {},
   "outputs": [
    {
     "data": {
      "text/html": [
       "<div>\n",
       "<style scoped>\n",
       "    .dataframe tbody tr th:only-of-type {\n",
       "        vertical-align: middle;\n",
       "    }\n",
       "\n",
       "    .dataframe tbody tr th {\n",
       "        vertical-align: top;\n",
       "    }\n",
       "\n",
       "    .dataframe thead tr th {\n",
       "        text-align: left;\n",
       "    }\n",
       "\n",
       "    .dataframe thead tr:last-of-type th {\n",
       "        text-align: right;\n",
       "    }\n",
       "</style>\n",
       "<table border=\"1\" class=\"dataframe\">\n",
       "  <thead>\n",
       "    <tr>\n",
       "      <th></th>\n",
       "      <th colspan=\"8\" halign=\"left\">SaleAmount</th>\n",
       "    </tr>\n",
       "    <tr>\n",
       "      <th></th>\n",
       "      <th>count</th>\n",
       "      <th>mean</th>\n",
       "      <th>std</th>\n",
       "      <th>min</th>\n",
       "      <th>25%</th>\n",
       "      <th>50%</th>\n",
       "      <th>75%</th>\n",
       "      <th>max</th>\n",
       "    </tr>\n",
       "    <tr>\n",
       "      <th>SaleDate</th>\n",
       "      <th></th>\n",
       "      <th></th>\n",
       "      <th></th>\n",
       "      <th></th>\n",
       "      <th></th>\n",
       "      <th></th>\n",
       "      <th></th>\n",
       "      <th></th>\n",
       "    </tr>\n",
       "  </thead>\n",
       "  <tbody>\n",
       "    <tr>\n",
       "      <th>1909</th>\n",
       "      <td>1.0</td>\n",
       "      <td>1.650000e+05</td>\n",
       "      <td>NaN</td>\n",
       "      <td>165000.0</td>\n",
       "      <td>165000.0</td>\n",
       "      <td>165000.0</td>\n",
       "      <td>165000.0</td>\n",
       "      <td>165000.0</td>\n",
       "    </tr>\n",
       "    <tr>\n",
       "      <th>1944</th>\n",
       "      <td>1.0</td>\n",
       "      <td>2.500000e+03</td>\n",
       "      <td>NaN</td>\n",
       "      <td>2500.0</td>\n",
       "      <td>2500.0</td>\n",
       "      <td>2500.0</td>\n",
       "      <td>2500.0</td>\n",
       "      <td>2500.0</td>\n",
       "    </tr>\n",
       "    <tr>\n",
       "      <th>1945</th>\n",
       "      <td>2.0</td>\n",
       "      <td>1.340000e+03</td>\n",
       "      <td>7.636753e+02</td>\n",
       "      <td>800.0</td>\n",
       "      <td>1070.0</td>\n",
       "      <td>1340.0</td>\n",
       "      <td>1610.0</td>\n",
       "      <td>1880.0</td>\n",
       "    </tr>\n",
       "    <tr>\n",
       "      <th>1946</th>\n",
       "      <td>3.0</td>\n",
       "      <td>3.883333e+03</td>\n",
       "      <td>4.875021e+03</td>\n",
       "      <td>750.0</td>\n",
       "      <td>1075.0</td>\n",
       "      <td>1400.0</td>\n",
       "      <td>5450.0</td>\n",
       "      <td>9500.0</td>\n",
       "    </tr>\n",
       "    <tr>\n",
       "      <th>1947</th>\n",
       "      <td>1.0</td>\n",
       "      <td>7.000000e+02</td>\n",
       "      <td>NaN</td>\n",
       "      <td>700.0</td>\n",
       "      <td>700.0</td>\n",
       "      <td>700.0</td>\n",
       "      <td>700.0</td>\n",
       "      <td>700.0</td>\n",
       "    </tr>\n",
       "    <tr>\n",
       "      <th>...</th>\n",
       "      <td>...</td>\n",
       "      <td>...</td>\n",
       "      <td>...</td>\n",
       "      <td>...</td>\n",
       "      <td>...</td>\n",
       "      <td>...</td>\n",
       "      <td>...</td>\n",
       "      <td>...</td>\n",
       "    </tr>\n",
       "    <tr>\n",
       "      <th>2020</th>\n",
       "      <td>616.0</td>\n",
       "      <td>3.989910e+05</td>\n",
       "      <td>2.510191e+05</td>\n",
       "      <td>35000.0</td>\n",
       "      <td>250000.0</td>\n",
       "      <td>360000.0</td>\n",
       "      <td>480000.0</td>\n",
       "      <td>2400000.0</td>\n",
       "    </tr>\n",
       "    <tr>\n",
       "      <th>2021</th>\n",
       "      <td>691.0</td>\n",
       "      <td>4.280294e+05</td>\n",
       "      <td>2.587164e+05</td>\n",
       "      <td>20000.0</td>\n",
       "      <td>269000.0</td>\n",
       "      <td>376000.0</td>\n",
       "      <td>495087.5</td>\n",
       "      <td>2100000.0</td>\n",
       "    </tr>\n",
       "    <tr>\n",
       "      <th>2022</th>\n",
       "      <td>651.0</td>\n",
       "      <td>1.003032e+06</td>\n",
       "      <td>1.668813e+06</td>\n",
       "      <td>1500.0</td>\n",
       "      <td>315000.0</td>\n",
       "      <td>426000.0</td>\n",
       "      <td>655000.0</td>\n",
       "      <td>7894904.0</td>\n",
       "    </tr>\n",
       "    <tr>\n",
       "      <th>2023</th>\n",
       "      <td>399.0</td>\n",
       "      <td>5.228821e+05</td>\n",
       "      <td>4.221584e+05</td>\n",
       "      <td>15000.0</td>\n",
       "      <td>304500.0</td>\n",
       "      <td>425000.0</td>\n",
       "      <td>601000.0</td>\n",
       "      <td>5900000.0</td>\n",
       "    </tr>\n",
       "    <tr>\n",
       "      <th>2024</th>\n",
       "      <td>408.0</td>\n",
       "      <td>6.409833e+05</td>\n",
       "      <td>4.977315e+05</td>\n",
       "      <td>10000.0</td>\n",
       "      <td>378750.0</td>\n",
       "      <td>495000.0</td>\n",
       "      <td>700000.0</td>\n",
       "      <td>2600000.0</td>\n",
       "    </tr>\n",
       "  </tbody>\n",
       "</table>\n",
       "<p>82 rows × 8 columns</p>\n",
       "</div>"
      ],
      "text/plain": [
       "         SaleAmount                                                            \\\n",
       "              count          mean           std       min       25%       50%   \n",
       "SaleDate                                                                        \n",
       "1909            1.0  1.650000e+05           NaN  165000.0  165000.0  165000.0   \n",
       "1944            1.0  2.500000e+03           NaN    2500.0    2500.0    2500.0   \n",
       "1945            2.0  1.340000e+03  7.636753e+02     800.0    1070.0    1340.0   \n",
       "1946            3.0  3.883333e+03  4.875021e+03     750.0    1075.0    1400.0   \n",
       "1947            1.0  7.000000e+02           NaN     700.0     700.0     700.0   \n",
       "...             ...           ...           ...       ...       ...       ...   \n",
       "2020          616.0  3.989910e+05  2.510191e+05   35000.0  250000.0  360000.0   \n",
       "2021          691.0  4.280294e+05  2.587164e+05   20000.0  269000.0  376000.0   \n",
       "2022          651.0  1.003032e+06  1.668813e+06    1500.0  315000.0  426000.0   \n",
       "2023          399.0  5.228821e+05  4.221584e+05   15000.0  304500.0  425000.0   \n",
       "2024          408.0  6.409833e+05  4.977315e+05   10000.0  378750.0  495000.0   \n",
       "\n",
       "                               \n",
       "               75%        max  \n",
       "SaleDate                       \n",
       "1909      165000.0   165000.0  \n",
       "1944        2500.0     2500.0  \n",
       "1945        1610.0     1880.0  \n",
       "1946        5450.0     9500.0  \n",
       "1947         700.0      700.0  \n",
       "...            ...        ...  \n",
       "2020      480000.0  2400000.0  \n",
       "2021      495087.5  2100000.0  \n",
       "2022      655000.0  7894904.0  \n",
       "2023      601000.0  5900000.0  \n",
       "2024      700000.0  2600000.0  \n",
       "\n",
       "[82 rows x 8 columns]"
      ]
     },
     "execution_count": 19,
     "metadata": {},
     "output_type": "execute_result"
    }
   ],
   "source": [
    "merged_df_clean.loc[:,['SaleDate', 'SaleAmount']].groupby(['SaleDate']).describe()"
   ]
  },
  {
   "cell_type": "code",
   "execution_count": 20,
   "id": "086a8243",
   "metadata": {
    "collapsed": true
   },
   "outputs": [
    {
     "data": {
      "image/png": "[encoded data removed]",
      "text/plain": [
       "<Figure size 432x288 with 1 Axes>"
      ]
     },
     "metadata": {
      "needs_background": "light"
     },
     "output_type": "display_data"
    }
   ],
   "source": [
    "avg_prices = merged_df_clean.groupby('SaleDate')['SaleAmount'].mean()\n",
    "\n",
    "# Create bar chart\n",
    "plt.bar(avg_prices.index, avg_prices.values, color='skyblue')\n",
    "\n",
    "# Add labels and title\n",
    "plt.xlabel('Sale Year')\n",
    "plt.ylabel('Average Sales Price ($)')\n",
    "plt.title('Average Sales Price vs. Sale Year')\n",
    "\n",
    "# Show the chart\n",
    "plt.show()"
   ]
  },
  {
   "cell_type": "code",
   "execution_count": 36,
   "id": "548834fe",
   "metadata": {},
   "outputs": [
    {
     "data": {
      "text/html": [
       "<div>\n",
       "<style scoped>\n",
       "    .dataframe tbody tr th:only-of-type {\n",
       "        vertical-align: middle;\n",
       "    }\n",
       "\n",
       "    .dataframe tbody tr th {\n",
       "        vertical-align: top;\n",
       "    }\n",
       "\n",
       "    .dataframe thead th {\n",
       "        text-align: right;\n",
       "    }\n",
       "</style>\n",
       "<table border=\"1\" class=\"dataframe\">\n",
       "  <thead>\n",
       "    <tr style=\"text-align: right;\">\n",
       "      <th></th>\n",
       "      <th>SaleAmount</th>\n",
       "      <th>SaleDate</th>\n",
       "      <th>Bedrooms</th>\n",
       "      <th>YearBuilt</th>\n",
       "      <th>SquareFootageFinishedLiving</th>\n",
       "      <th>Grade out of 10</th>\n",
       "    </tr>\n",
       "  </thead>\n",
       "  <tbody>\n",
       "    <tr>\n",
       "      <th>14</th>\n",
       "      <td>575000</td>\n",
       "      <td>2018</td>\n",
       "      <td>4</td>\n",
       "      <td>1950.0</td>\n",
       "      <td>2144.0</td>\n",
       "      <td>7.5</td>\n",
       "    </tr>\n",
       "    <tr>\n",
       "      <th>15</th>\n",
       "      <td>205000</td>\n",
       "      <td>1984</td>\n",
       "      <td>6</td>\n",
       "      <td>1954.0</td>\n",
       "      <td>3392.0</td>\n",
       "      <td>7.0</td>\n",
       "    </tr>\n",
       "    <tr>\n",
       "      <th>16</th>\n",
       "      <td>970000</td>\n",
       "      <td>2018</td>\n",
       "      <td>6</td>\n",
       "      <td>1954.0</td>\n",
       "      <td>3392.0</td>\n",
       "      <td>7.0</td>\n",
       "    </tr>\n",
       "    <tr>\n",
       "      <th>17</th>\n",
       "      <td>785000</td>\n",
       "      <td>2020</td>\n",
       "      <td>3</td>\n",
       "      <td>1952.0</td>\n",
       "      <td>2520.0</td>\n",
       "      <td>7.5</td>\n",
       "    </tr>\n",
       "    <tr>\n",
       "      <th>18</th>\n",
       "      <td>512000</td>\n",
       "      <td>2015</td>\n",
       "      <td>3</td>\n",
       "      <td>1952.0</td>\n",
       "      <td>2520.0</td>\n",
       "      <td>7.5</td>\n",
       "    </tr>\n",
       "  </tbody>\n",
       "</table>\n",
       "</div>"
      ],
      "text/plain": [
       "    SaleAmount  SaleDate  Bedrooms  YearBuilt  SquareFootageFinishedLiving  \\\n",
       "14      575000      2018         4     1950.0                       2144.0   \n",
       "15      205000      1984         6     1954.0                       3392.0   \n",
       "16      970000      2018         6     1954.0                       3392.0   \n",
       "17      785000      2020         3     1952.0                       2520.0   \n",
       "18      512000      2015         3     1952.0                       2520.0   \n",
       "\n",
       "    Grade out of 10  \n",
       "14              7.5  \n",
       "15              7.0  \n",
       "16              7.0  \n",
       "17              7.5  \n",
       "18              7.5  "
      ]
     },
     "execution_count": 36,
     "metadata": {},
     "output_type": "execute_result"
    }
   ],
   "source": [
    "from sklearn import tree\n",
    "\n",
    "columns_to_keep1 = ['SaleAmount', 'SaleDate','Bedrooms','YearBuilt','SquareFootageFinishedLiving', 'Grade out of 10']\n",
    "reg_df = merged_df_clean[[col for col in columns_to_keep1 if col in merged_df_clean.columns]]\n",
    "reg_df.head()"
   ]
  },
  {
   "cell_type": "code",
   "execution_count": 37,
   "id": "d29bf197",
   "metadata": {},
   "outputs": [],
   "source": [
    "from sklearn.model_selection import train_test_split\n",
    "\n",
    "def quick_tree(df,depth=5):\n",
    "    # Resample and Process data:\n",
    "    df_t = reg_df.sample(n=df.shape[0],replace=True)\n",
    "    y = df_t['SaleAmount']\n",
    "    X = df_t.drop(['SaleAmount'], axis=1)\n",
    "    X_train, X_test, y_train, y_test = train_test_split(X, y, test_size=0.4)\n",
    "    # Fit decision tree:\n",
    "    cart = tree.DecisionTreeRegressor(max_depth=depth) # Create a classifier object\n",
    "    cart = cart.fit(X_test, y_test) # Fit the classifier\n",
    "    # Visualize results:\n",
    "    tree.plot_tree(cart,feature_names=X_train.columns.to_list(),filled=True)\n",
    "    # Rsq:\n",
    "    y_hat = cart.predict(X_test)\n",
    "    SSE = np.sum( (y_test-y_hat)**2 )\n",
    "    TSS = np.sum( (y_test-y_train.mean())**2 )\n",
    "    Rsq = 1 - SSE/TSS\n",
    "    print(Rsq)"
   ]
  },
  {
   "cell_type": "code",
   "execution_count": 38,
   "id": "1ac6f8ee",
   "metadata": {},
   "outputs": [
    {
     "name": "stdout",
     "output_type": "stream",
     "text": [
      "0.6120456408118446\n"
     ]
    },
    {
     "data": {
      "image/png": "[encoded data removed]",
      "text/plain": [
       "<Figure size 432x288 with 1 Axes>"
      ]
     },
     "metadata": {
      "needs_background": "light"
     },
     "output_type": "display_data"
    }
   ],
   "source": [
    "quick_tree(reg_df)"
   ]
  },
  {
   "cell_type": "code",
   "execution_count": 40,
   "id": "6562a699",
   "metadata": {},
   "outputs": [
    {
     "name": "stdout",
     "output_type": "stream",
     "text": [
      "0.4865566400628665\n"
     ]
    }
   ],
   "source": [
    "# Split data into training rows and testing rows:\n",
    "N = reg_df.shape[0]\n",
    "reg_df = reg_df.sample(frac=1, random_state=100) # randomize the order in which data appears\n",
    "train_size = int(.8*N)\n",
    "df_train = reg_df[0:train_size]\n",
    "N_train = df_train.shape[0]\n",
    "df_test = reg_df[train_size:]\n",
    "N_test = df_test.shape[0]\n",
    "\n",
    "# Bootstrap:\n",
    "T = 1000\n",
    "m_depth = 5\n",
    "Rsq = np.zeros(T) # preallocate the rsq measure\n",
    "y_test_hat = np.zeros([T,N_test]) # preallocate predictions on test set\n",
    "df_train.head()\n",
    "\n",
    "# Split data into train/test:\n",
    "X_train = df_train.drop(['SaleAmount'],axis=1)\n",
    "y_train = df_train['SaleAmount']\n",
    "X_test = df_test.drop(['SaleAmount'],axis=1)\n",
    "y_test = df_test['SaleAmount']\n",
    "\n",
    "# Bootstrapping:\n",
    "for s in range(T):\n",
    "    # Generate a bootstrap sample:\n",
    "    df_s = df_train.sample(frac=1, replace=True)\n",
    "    X_s = df_s.drop('SaleAmount',axis=1)\n",
    "    y_s = df_s['SaleAmount']\n",
    "    # Fit decision tree:\n",
    "    cart = tree.DecisionTreeRegressor(max_depth=m_depth) # Create a classifier object\n",
    "    cart = cart.fit(X_s, y_s) # Fit the classifier\n",
    "    # Compute Rsq:\n",
    "    y_hat = cart.predict(X_test)\n",
    "    SSE = np.sum( (y_test-y_hat)**2 )\n",
    "    TSS = np.sum( (y_test-y_s.mean())**2 )\n",
    "    Rsq[s] = 1 - SSE/TSS\n",
    "    # Make and Save Predictions:\n",
    "    y_test_hat[s,:] = y_hat\n",
    "\n",
    "# Ensemble predictor:\n",
    "y_hat_ensemble = y_test_hat.mean(axis=0) # Average the columns to get the ensemble prediction\n",
    "SSE = np.sum( (y_test-y_hat_ensemble)**2 )\n",
    "TSS = np.sum( (y_test-y_train.mean())**2 )\n",
    "Rsq_ensemble = 1 - SSE/TSS\n",
    "\n",
    "print(Rsq_ensemble)"
   ]
  },
  {
   "cell_type": "code",
   "execution_count": 41,
   "id": "87e35dea",
   "metadata": {},
   "outputs": [],
   "source": [
    "from sklearn.ensemble import RandomForestRegressor\n",
    "\n",
    "# Fit model:\n",
    "model = RandomForestRegressor() # Build a random forest model\n",
    "rf = model.fit(X_train,y_train) # Fit the rf model\n",
    "\n",
    "# Make predictions:\n",
    "y_hat_rf = rf.predict(X_test) # Model predictions"
   ]
  },
  {
   "cell_type": "code",
   "execution_count": 42,
   "id": "fc943514",
   "metadata": {},
   "outputs": [
    {
     "data": {
      "text/plain": [
       "<matplotlib.collections.PathCollection at 0x265e586a250>"
      ]
     },
     "execution_count": 42,
     "metadata": {},
     "output_type": "execute_result"
    },
    {
     "data": {
      "image/png": "[encoded data removed]",
      "text/plain": [
       "<Figure size 432x288 with 1 Axes>"
      ]
     },
     "metadata": {
      "needs_background": "light"
     },
     "output_type": "display_data"
    }
   ],
   "source": [
    "plt.scatter(y_test, y_hat_rf, color=\"blue\", alpha=0.7) # Predicted v Actual"
   ]
  },
  {
   "cell_type": "code",
   "execution_count": 43,
   "id": "7c547216",
   "metadata": {},
   "outputs": [
    {
     "data": {
      "text/plain": [
       "0.8540344219623679"
      ]
     },
     "execution_count": 43,
     "metadata": {},
     "output_type": "execute_result"
    }
   ],
   "source": [
    "rf.score(X_test,y_test) # Rsq measure"
   ]
  },
  {
   "cell_type": "code",
   "execution_count": 46,
   "id": "716f44c7",
   "metadata": {},
   "outputs": [
    {
     "data": {
      "text/plain": [
       "Text(0, 0.5, 'Mean decrease in impurity')"
      ]
     },
     "execution_count": 46,
     "metadata": {},
     "output_type": "execute_result"
    },
    {
     "data": {
      "image/png": "[encoded data removed]",
      "text/plain": [
       "<Figure size 432x288 with 1 Axes>"
      ]
     },
     "metadata": {
      "needs_background": "light"
     },
     "output_type": "display_data"
    }
   ],
   "source": [
    "# Variable importance plot:\n",
    "forest_importances = pd.Series(rf.feature_importances_, index=X_train.columns )\n",
    "forest_importances.plot.bar()\n",
    "plt.ylabel(\"Mean decrease in impurity\")"
   ]
  },
  {
   "cell_type": "code",
   "execution_count": null,
   "id": "3eb61cd4",
   "metadata": {},
   "outputs": [],
   "source": []
  }
 ],
 "metadata": {
  "kernelspec": {
   "display_name": "Python 3",
   "language": "python",
   "name": "python3"
  },
  "language_info": {
   "codemirror_mode": {
    "name": "ipython",
    "version": 3
   },
   "file_extension": ".py",
   "mimetype": "text/x-python",
   "name": "python",
   "nbconvert_exporter": "python",
   "pygments_lexer": "ipython3",
   "version": "3.8.8"
  }
 },
 "nbformat": 4,
 "nbformat_minor": 5
}
